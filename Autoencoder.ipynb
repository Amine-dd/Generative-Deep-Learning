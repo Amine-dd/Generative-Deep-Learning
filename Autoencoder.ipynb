{
  "nbformat": 4,
  "nbformat_minor": 0,
  "metadata": {
    "colab": {
      "name": "Autoencoder.ipynb",
      "provenance": [],
      "authorship_tag": "ABX9TyPoMwxT+AV0o2/deOT23XPl",
      "include_colab_link": true
    },
    "kernelspec": {
      "name": "python3",
      "display_name": "Python 3"
    }
  },
  "cells": [
    {
      "cell_type": "markdown",
      "metadata": {
        "id": "view-in-github",
        "colab_type": "text"
      },
      "source": [
        "<a href=\"https://colab.research.google.com/github/Amine-dd/Generative-Deep-Learning/blob/master/Autoencoder.ipynb\" target=\"_parent\"><img src=\"https://colab.research.google.com/assets/colab-badge.svg\" alt=\"Open In Colab\"/></a>"
      ]
    },
    {
      "cell_type": "code",
      "metadata": {
        "id": "1N4K7yMMFZLU",
        "colab_type": "code",
        "colab": {}
      },
      "source": [
        "#the simplest autoencoder\n",
        "from keras.layers import Input, Dense\n",
        "from keras.models import Model\n",
        "\n",
        "encoding_dim = 32\n",
        "#the input of the placeholder\n",
        "input_img = Input(shape=(784,))\n",
        "#the encoded version of the input\n",
        "encoded = Dense(encoding_dim,activation='relu')(input_img)\n",
        "#the decoded version of the encoded\n",
        "decoded = Dense(784,activation='sigmoid')(encoded)\n",
        "#the autoencoder\n",
        "autoencoder = Model(input_img,decoded)"
      ],
      "execution_count": 0,
      "outputs": []
    },
    {
      "cell_type": "code",
      "metadata": {
        "id": "g7wC3WAjKagF",
        "colab_type": "code",
        "colab": {}
      },
      "source": [
        "#encoder model\n",
        "\n",
        "encoder = Model(input_img,encoded)"
      ],
      "execution_count": 0,
      "outputs": []
    },
    {
      "cell_type": "code",
      "metadata": {
        "id": "vIurme30LA1Z",
        "colab_type": "code",
        "colab": {}
      },
      "source": [
        "#decoder model\n",
        "encoded_input = Input(shape=(encoding_dim,))\n",
        "decoder_layer = autoencoder.layers[-1]\n",
        "#create the decoder\n",
        "decoder = Model(encoded_input,decoder_layer(encoded_input))"
      ],
      "execution_count": 0,
      "outputs": []
    },
    {
      "cell_type": "code",
      "metadata": {
        "id": "Z-5rC6-gLbgz",
        "colab_type": "code",
        "colab": {}
      },
      "source": [
        "autoencoder.compile(optimizer='adadelta',loss='binary_crossentropy')"
      ],
      "execution_count": 0,
      "outputs": []
    },
    {
      "cell_type": "code",
      "metadata": {
        "id": "bPehPTWkMOAa",
        "colab_type": "code",
        "colab": {}
      },
      "source": [
        "from keras.datasets import mnist\n",
        "import numpy as np\n",
        "(x_train, _), (x_test, _) = mnist.load_data()"
      ],
      "execution_count": 0,
      "outputs": []
    },
    {
      "cell_type": "code",
      "metadata": {
        "id": "Spn4PZ1hMhDq",
        "colab_type": "code",
        "outputId": "11c7c107-e5f6-4114-a3ab-16377888ecc9",
        "colab": {
          "base_uri": "https://localhost:8080/",
          "height": 51
        }
      },
      "source": [
        "x_train = x_train.astype('float32') / 255.\n",
        "x_test = x_test.astype('float32') / 255.\n",
        "x_train = x_train.reshape((len(x_train), np.prod(x_train.shape[1:])))\n",
        "x_test = x_test.reshape((len(x_test), np.prod(x_test.shape[1:])))\n",
        "print(x_train.shape)\n",
        "print(x_test.shape)"
      ],
      "execution_count": 0,
      "outputs": [
        {
          "output_type": "stream",
          "text": [
            "(60000, 784)\n",
            "(10000, 784)\n"
          ],
          "name": "stdout"
        }
      ]
    },
    {
      "cell_type": "code",
      "metadata": {
        "id": "IQoM3rpaMjQs",
        "colab_type": "code",
        "outputId": "bdac8765-f26f-46d3-aed8-1c66d0afdd34",
        "colab": {
          "base_uri": "https://localhost:8080/",
          "height": 1000
        }
      },
      "source": [
        "autoencoder.fit(x_train, x_train,\n",
        "                epochs=50,\n",
        "                batch_size=256,\n",
        "                shuffle=True,\n",
        "                validation_data=(x_test, x_test))"
      ],
      "execution_count": 0,
      "outputs": [
        {
          "output_type": "stream",
          "text": [
            "Train on 60000 samples, validate on 10000 samples\n",
            "Epoch 1/50\n",
            "60000/60000 [==============================] - 4s 60us/step - loss: 0.3585 - val_loss: 0.2710\n",
            "Epoch 2/50\n",
            "60000/60000 [==============================] - 3s 57us/step - loss: 0.2635 - val_loss: 0.2525\n",
            "Epoch 3/50\n",
            "60000/60000 [==============================] - 3s 57us/step - loss: 0.2423 - val_loss: 0.2302\n",
            "Epoch 4/50\n",
            "60000/60000 [==============================] - 3s 56us/step - loss: 0.2220 - val_loss: 0.2116\n",
            "Epoch 5/50\n",
            "60000/60000 [==============================] - 3s 55us/step - loss: 0.2062 - val_loss: 0.1984\n",
            "Epoch 6/50\n",
            "60000/60000 [==============================] - 3s 55us/step - loss: 0.1949 - val_loss: 0.1888\n",
            "Epoch 7/50\n",
            "60000/60000 [==============================] - 3s 55us/step - loss: 0.1864 - val_loss: 0.1812\n",
            "Epoch 8/50\n",
            "60000/60000 [==============================] - 3s 55us/step - loss: 0.1793 - val_loss: 0.1746\n",
            "Epoch 9/50\n",
            "60000/60000 [==============================] - 3s 55us/step - loss: 0.1730 - val_loss: 0.1687\n",
            "Epoch 10/50\n",
            "60000/60000 [==============================] - 3s 55us/step - loss: 0.1676 - val_loss: 0.1636\n",
            "Epoch 11/50\n",
            "60000/60000 [==============================] - 3s 55us/step - loss: 0.1627 - val_loss: 0.1590\n",
            "Epoch 12/50\n",
            "60000/60000 [==============================] - 3s 54us/step - loss: 0.1583 - val_loss: 0.1548\n",
            "Epoch 13/50\n",
            "60000/60000 [==============================] - 3s 56us/step - loss: 0.1542 - val_loss: 0.1509\n",
            "Epoch 14/50\n",
            "60000/60000 [==============================] - 3s 55us/step - loss: 0.1505 - val_loss: 0.1474\n",
            "Epoch 15/50\n",
            "60000/60000 [==============================] - 3s 55us/step - loss: 0.1472 - val_loss: 0.1442\n",
            "Epoch 16/50\n",
            "60000/60000 [==============================] - 3s 55us/step - loss: 0.1441 - val_loss: 0.1413\n",
            "Epoch 17/50\n",
            "60000/60000 [==============================] - 3s 55us/step - loss: 0.1413 - val_loss: 0.1385\n",
            "Epoch 18/50\n",
            "60000/60000 [==============================] - 3s 56us/step - loss: 0.1386 - val_loss: 0.1359\n",
            "Epoch 19/50\n",
            "60000/60000 [==============================] - 3s 56us/step - loss: 0.1361 - val_loss: 0.1335\n",
            "Epoch 20/50\n",
            "60000/60000 [==============================] - 3s 56us/step - loss: 0.1338 - val_loss: 0.1313\n",
            "Epoch 21/50\n",
            "60000/60000 [==============================] - 3s 58us/step - loss: 0.1316 - val_loss: 0.1291\n",
            "Epoch 22/50\n",
            "60000/60000 [==============================] - 3s 57us/step - loss: 0.1294 - val_loss: 0.1270\n",
            "Epoch 23/50\n",
            "60000/60000 [==============================] - 3s 57us/step - loss: 0.1274 - val_loss: 0.1249\n",
            "Epoch 24/50\n",
            "60000/60000 [==============================] - 3s 57us/step - loss: 0.1254 - val_loss: 0.1230\n",
            "Epoch 25/50\n",
            "60000/60000 [==============================] - 3s 56us/step - loss: 0.1236 - val_loss: 0.1212\n",
            "Epoch 26/50\n",
            "60000/60000 [==============================] - 3s 57us/step - loss: 0.1218 - val_loss: 0.1195\n",
            "Epoch 27/50\n",
            "60000/60000 [==============================] - 3s 57us/step - loss: 0.1201 - val_loss: 0.1178\n",
            "Epoch 28/50\n",
            "60000/60000 [==============================] - 3s 57us/step - loss: 0.1186 - val_loss: 0.1163\n",
            "Epoch 29/50\n",
            "60000/60000 [==============================] - 3s 57us/step - loss: 0.1171 - val_loss: 0.1148\n",
            "Epoch 30/50\n",
            "60000/60000 [==============================] - 3s 57us/step - loss: 0.1158 - val_loss: 0.1135\n",
            "Epoch 31/50\n",
            "60000/60000 [==============================] - 3s 56us/step - loss: 0.1145 - val_loss: 0.1123\n",
            "Epoch 32/50\n",
            "60000/60000 [==============================] - 3s 56us/step - loss: 0.1133 - val_loss: 0.1112\n",
            "Epoch 33/50\n",
            "60000/60000 [==============================] - 3s 56us/step - loss: 0.1123 - val_loss: 0.1102\n",
            "Epoch 34/50\n",
            "60000/60000 [==============================] - 3s 55us/step - loss: 0.1113 - val_loss: 0.1092\n",
            "Epoch 35/50\n",
            "60000/60000 [==============================] - 3s 56us/step - loss: 0.1104 - val_loss: 0.1083\n",
            "Epoch 36/50\n",
            "60000/60000 [==============================] - 3s 55us/step - loss: 0.1095 - val_loss: 0.1075\n",
            "Epoch 37/50\n",
            "60000/60000 [==============================] - 3s 56us/step - loss: 0.1088 - val_loss: 0.1068\n",
            "Epoch 38/50\n",
            "60000/60000 [==============================] - 3s 56us/step - loss: 0.1080 - val_loss: 0.1061\n",
            "Epoch 39/50\n",
            "60000/60000 [==============================] - 3s 56us/step - loss: 0.1074 - val_loss: 0.1054\n",
            "Epoch 40/50\n",
            "60000/60000 [==============================] - 3s 55us/step - loss: 0.1068 - val_loss: 0.1048\n",
            "Epoch 41/50\n",
            "60000/60000 [==============================] - 3s 55us/step - loss: 0.1062 - val_loss: 0.1043\n",
            "Epoch 42/50\n",
            "60000/60000 [==============================] - 3s 56us/step - loss: 0.1057 - val_loss: 0.1038\n",
            "Epoch 43/50\n",
            "60000/60000 [==============================] - 3s 56us/step - loss: 0.1052 - val_loss: 0.1033\n",
            "Epoch 44/50\n",
            "60000/60000 [==============================] - 3s 56us/step - loss: 0.1047 - val_loss: 0.1029\n",
            "Epoch 45/50\n",
            "60000/60000 [==============================] - 3s 55us/step - loss: 0.1043 - val_loss: 0.1024\n",
            "Epoch 46/50\n",
            "60000/60000 [==============================] - 3s 56us/step - loss: 0.1038 - val_loss: 0.1020\n",
            "Epoch 47/50\n",
            "60000/60000 [==============================] - 3s 55us/step - loss: 0.1035 - val_loss: 0.1017\n",
            "Epoch 48/50\n",
            "60000/60000 [==============================] - 3s 56us/step - loss: 0.1031 - val_loss: 0.1013\n",
            "Epoch 49/50\n",
            "60000/60000 [==============================] - 3s 56us/step - loss: 0.1027 - val_loss: 0.1010\n",
            "Epoch 50/50\n",
            "60000/60000 [==============================] - 3s 55us/step - loss: 0.1024 - val_loss: 0.1006\n"
          ],
          "name": "stdout"
        },
        {
          "output_type": "execute_result",
          "data": {
            "text/plain": [
              "<keras.callbacks.History at 0x7f9bb03796a0>"
            ]
          },
          "metadata": {
            "tags": []
          },
          "execution_count": 21
        }
      ]
    },
    {
      "cell_type": "code",
      "metadata": {
        "id": "7W1q6EhnNIoc",
        "colab_type": "code",
        "colab": {}
      },
      "source": [
        "encoded_imgs = encoder.predict(x_test)\n",
        "decoded_imgs = decoder.predict(encoded_imgs)"
      ],
      "execution_count": 0,
      "outputs": []
    },
    {
      "cell_type": "code",
      "metadata": {
        "id": "wXKsqxl0OSmg",
        "colab_type": "code",
        "outputId": "b8f852ed-38c9-4d4a-f469-12c30ed66e70",
        "colab": {
          "base_uri": "https://localhost:8080/",
          "height": 268
        }
      },
      "source": [
        "import matplotlib.pyplot as plt\n",
        "\n",
        "n = 10  # how many digits we will display\n",
        "plt.figure(figsize=(20, 4))\n",
        "for i in range(n):\n",
        "    # display original\n",
        "    ax = plt.subplot(2, n, i + 1)\n",
        "    plt.imshow(x_test[i].reshape(28, 28))\n",
        "    plt.gray()\n",
        "    ax.get_xaxis().set_visible(False)\n",
        "    ax.get_yaxis().set_visible(False)\n",
        "\n",
        "    # display reconstruction\n",
        "    ax = plt.subplot(2, n, i + 1 + n)\n",
        "    plt.imshow(decoded_imgs[i].reshape(28, 28))\n",
        "    plt.gray()\n",
        "    ax.get_xaxis().set_visible(False)\n",
        "    ax.get_yaxis().set_visible(False)\n",
        "plt.show()"
      ],
      "execution_count": 0,
      "outputs": [
        {
          "output_type": "display_data",
          "data": {
            "image/png": "[encoded data removed]",
            "text/plain": [
              "<Figure size 1440x288 with 20 Axes>"
            ]
          },
          "metadata": {
            "tags": []
          }
        }
      ]
    },
    {
      "cell_type": "code",
      "metadata": {
        "id": "vcB0SQi0OYWM",
        "colab_type": "code",
        "colab": {}
      },
      "source": [
        "#adding a sparsity constraint\n",
        "from keras import regularizers\n",
        "\n",
        "encoding_dim = 32\n",
        "\n",
        "input_img = Input(shape=(784,))\n",
        "# add a Dense layer with a L1 activity regularizer\n",
        "encoded = Dense(encoding_dim, activation='relu',\n",
        "                activity_regularizer=regularizers.l1(10e-5))(input_img)\n",
        "decoded = Dense(784, activation='sigmoid')(encoded)\n",
        "\n",
        "autoencoder = Model(input_img, decoded)"
      ],
      "execution_count": 0,
      "outputs": []
    },
    {
      "cell_type": "code",
      "metadata": {
        "id": "-PLot-n4PxYZ",
        "colab_type": "code",
        "colab": {}
      },
      "source": [
        "autoencoder.compile(optimizer='adadelta',loss='binary_crossentropy')"
      ],
      "execution_count": 0,
      "outputs": []
    },
    {
      "cell_type": "code",
      "metadata": {
        "id": "rXoTgfTXPoPP",
        "colab_type": "code",
        "outputId": "5d52aeef-e907-4a30-f4df-f8ac46505d52",
        "colab": {
          "base_uri": "https://localhost:8080/",
          "height": 1000
        }
      },
      "source": [
        "autoencoder.fit(x_train, x_train,\n",
        "                epochs=50,\n",
        "                batch_size=256,\n",
        "                shuffle=True,\n",
        "                validation_data=(x_test, x_test))"
      ],
      "execution_count": 0,
      "outputs": [
        {
          "output_type": "stream",
          "text": [
            "Train on 60000 samples, validate on 10000 samples\n",
            "Epoch 1/50\n",
            "60000/60000 [==============================] - 4s 62us/step - loss: 0.6727 - val_loss: 0.6485\n",
            "Epoch 2/50\n",
            "60000/60000 [==============================] - 3s 57us/step - loss: 0.6284 - val_loss: 0.6090\n",
            "Epoch 3/50\n",
            "60000/60000 [==============================] - 3s 57us/step - loss: 0.5916 - val_loss: 0.5749\n",
            "Epoch 4/50\n",
            "60000/60000 [==============================] - 3s 56us/step - loss: 0.5598 - val_loss: 0.5454\n",
            "Epoch 5/50\n",
            "60000/60000 [==============================] - 3s 56us/step - loss: 0.5323 - val_loss: 0.5198\n",
            "Epoch 6/50\n",
            "60000/60000 [==============================] - 3s 57us/step - loss: 0.5084 - val_loss: 0.4975\n",
            "Epoch 7/50\n",
            "60000/60000 [==============================] - 3s 56us/step - loss: 0.4875 - val_loss: 0.4780\n",
            "Epoch 8/50\n",
            "60000/60000 [==============================] - 3s 58us/step - loss: 0.4692 - val_loss: 0.4609\n",
            "Epoch 9/50\n",
            "60000/60000 [==============================] - 3s 56us/step - loss: 0.4531 - val_loss: 0.4457\n",
            "Epoch 10/50\n",
            "60000/60000 [==============================] - 3s 57us/step - loss: 0.4389 - val_loss: 0.4324\n",
            "Epoch 11/50\n",
            "60000/60000 [==============================] - 3s 57us/step - loss: 0.4262 - val_loss: 0.4205\n",
            "Epoch 12/50\n",
            "60000/60000 [==============================] - 3s 57us/step - loss: 0.4150 - val_loss: 0.4098\n",
            "Epoch 13/50\n",
            "60000/60000 [==============================] - 3s 55us/step - loss: 0.4049 - val_loss: 0.4003\n",
            "Epoch 14/50\n",
            "60000/60000 [==============================] - 3s 56us/step - loss: 0.3959 - val_loss: 0.3918\n",
            "Epoch 15/50\n",
            "60000/60000 [==============================] - 3s 56us/step - loss: 0.3877 - val_loss: 0.3840\n",
            "Epoch 16/50\n",
            "60000/60000 [==============================] - 3s 56us/step - loss: 0.3804 - val_loss: 0.3771\n",
            "Epoch 17/50\n",
            "60000/60000 [==============================] - 3s 56us/step - loss: 0.3737 - val_loss: 0.3707\n",
            "Epoch 18/50\n",
            "60000/60000 [==============================] - 3s 57us/step - loss: 0.3676 - val_loss: 0.3649\n",
            "Epoch 19/50\n",
            "60000/60000 [==============================] - 3s 55us/step - loss: 0.3621 - val_loss: 0.3596\n",
            "Epoch 20/50\n",
            "60000/60000 [==============================] - 3s 56us/step - loss: 0.3570 - val_loss: 0.3548\n",
            "Epoch 21/50\n",
            "60000/60000 [==============================] - 3s 55us/step - loss: 0.3524 - val_loss: 0.3503\n",
            "Epoch 22/50\n",
            "60000/60000 [==============================] - 3s 55us/step - loss: 0.3481 - val_loss: 0.3463\n",
            "Epoch 23/50\n",
            "60000/60000 [==============================] - 3s 55us/step - loss: 0.3442 - val_loss: 0.3425\n",
            "Epoch 24/50\n",
            "60000/60000 [==============================] - 3s 58us/step - loss: 0.3406 - val_loss: 0.3390\n",
            "Epoch 25/50\n",
            "60000/60000 [==============================] - 3s 57us/step - loss: 0.3372 - val_loss: 0.3357\n",
            "Epoch 26/50\n",
            "60000/60000 [==============================] - 3s 56us/step - loss: 0.3341 - val_loss: 0.3327\n",
            "Epoch 27/50\n",
            "60000/60000 [==============================] - 3s 57us/step - loss: 0.3312 - val_loss: 0.3299\n",
            "Epoch 28/50\n",
            "60000/60000 [==============================] - 3s 57us/step - loss: 0.3285 - val_loss: 0.3273\n",
            "Epoch 29/50\n",
            "60000/60000 [==============================] - 3s 56us/step - loss: 0.3259 - val_loss: 0.3249\n",
            "Epoch 30/50\n",
            "60000/60000 [==============================] - 3s 57us/step - loss: 0.3236 - val_loss: 0.3226\n",
            "Epoch 31/50\n",
            "60000/60000 [==============================] - 3s 56us/step - loss: 0.3213 - val_loss: 0.3204\n",
            "Epoch 32/50\n",
            "60000/60000 [==============================] - 3s 57us/step - loss: 0.3193 - val_loss: 0.3184\n",
            "Epoch 33/50\n",
            "60000/60000 [==============================] - 3s 58us/step - loss: 0.3173 - val_loss: 0.3165\n",
            "Epoch 34/50\n",
            "60000/60000 [==============================] - 3s 57us/step - loss: 0.3155 - val_loss: 0.3147\n",
            "Epoch 35/50\n",
            "60000/60000 [==============================] - 3s 56us/step - loss: 0.3138 - val_loss: 0.3131\n",
            "Epoch 36/50\n",
            "60000/60000 [==============================] - 3s 56us/step - loss: 0.3121 - val_loss: 0.3115\n",
            "Epoch 37/50\n",
            "60000/60000 [==============================] - 3s 56us/step - loss: 0.3106 - val_loss: 0.3100\n",
            "Epoch 38/50\n",
            "60000/60000 [==============================] - 3s 57us/step - loss: 0.3091 - val_loss: 0.3085\n",
            "Epoch 39/50\n",
            "60000/60000 [==============================] - 3s 56us/step - loss: 0.3077 - val_loss: 0.3072\n",
            "Epoch 40/50\n",
            "60000/60000 [==============================] - 3s 56us/step - loss: 0.3064 - val_loss: 0.3059\n",
            "Epoch 41/50\n",
            "60000/60000 [==============================] - 3s 56us/step - loss: 0.3052 - val_loss: 0.3047\n",
            "Epoch 42/50\n",
            "60000/60000 [==============================] - 3s 57us/step - loss: 0.3040 - val_loss: 0.3035\n",
            "Epoch 43/50\n",
            "60000/60000 [==============================] - 3s 57us/step - loss: 0.3029 - val_loss: 0.3024\n",
            "Epoch 44/50\n",
            "60000/60000 [==============================] - 3s 56us/step - loss: 0.3018 - val_loss: 0.3014\n",
            "Epoch 45/50\n",
            "60000/60000 [==============================] - 3s 57us/step - loss: 0.3008 - val_loss: 0.3004\n",
            "Epoch 46/50\n",
            "60000/60000 [==============================] - 3s 56us/step - loss: 0.2998 - val_loss: 0.2994\n",
            "Epoch 47/50\n",
            "60000/60000 [==============================] - 3s 57us/step - loss: 0.2989 - val_loss: 0.2985\n",
            "Epoch 48/50\n",
            "60000/60000 [==============================] - 3s 57us/step - loss: 0.2980 - val_loss: 0.2976\n",
            "Epoch 49/50\n",
            "60000/60000 [==============================] - 3s 56us/step - loss: 0.2971 - val_loss: 0.2968\n",
            "Epoch 50/50\n",
            "60000/60000 [==============================] - 3s 56us/step - loss: 0.2963 - val_loss: 0.2960\n"
          ],
          "name": "stdout"
        },
        {
          "output_type": "execute_result",
          "data": {
            "text/plain": [
              "<keras.callbacks.History at 0x7f9bafe24b70>"
            ]
          },
          "metadata": {
            "tags": []
          },
          "execution_count": 27
        }
      ]
    },
    {
      "cell_type": "code",
      "metadata": {
        "id": "Iff1O7gGPtOP",
        "colab_type": "code",
        "outputId": "20196218-d299-4f54-a653-fb24b40a0712",
        "colab": {
          "base_uri": "https://localhost:8080/",
          "height": 268
        }
      },
      "source": [
        "import matplotlib.pyplot as plt\n",
        "\n",
        "n = 10  # how many digits we will display\n",
        "plt.figure(figsize=(20, 4))\n",
        "for i in range(n):\n",
        "    # display original\n",
        "    ax = plt.subplot(2, n, i + 1)\n",
        "    plt.imshow(x_test[i].reshape(28, 28))\n",
        "    plt.gray()\n",
        "    ax.get_xaxis().set_visible(False)\n",
        "    ax.get_yaxis().set_visible(False)\n",
        "\n",
        "    # display reconstruction\n",
        "    ax = plt.subplot(2, n, i + 1 + n)\n",
        "    plt.imshow(decoded_imgs[i].reshape(28, 28))\n",
        "    plt.gray()\n",
        "    ax.get_xaxis().set_visible(False)\n",
        "    ax.get_yaxis().set_visible(False)\n",
        "plt.show()"
      ],
      "execution_count": 0,
      "outputs": [
        {
          "output_type": "display_data",
          "data": {
            "image/png": "[encoded data removed]",
            "text/plain": [
              "<Figure size 1440x288 with 20 Axes>"
            ]
          },
          "metadata": {
            "tags": []
          }
        }
      ]
    },
    {
      "cell_type": "code",
      "metadata": {
        "id": "YTijMWxrP6bJ",
        "colab_type": "code",
        "colab": {}
      },
      "source": [
        "#Deep autoencoder\n",
        "input_img = Input(shape=(784,))\n",
        "encoded = Dense(128,activation='relu')(input_img)\n",
        "encoded = Dense(64,activation='relu')(encoded)\n",
        "encoded = Dense(32,activation='relu')(encoded)\n",
        "\n",
        "decoded = Dense(64,activation='relu')(encoded)\n",
        "decoded = Dense(128,activation='relu')(decoded)\n",
        "decoded = Dense(784,activation='sigmoid')(decoded)"
      ],
      "execution_count": 0,
      "outputs": []
    },
    {
      "cell_type": "code",
      "metadata": {
        "id": "hUCFXY6uTTxp",
        "colab_type": "code",
        "outputId": "8f5dcaf4-b02a-47ab-c473-e4f21adee3c4",
        "colab": {
          "base_uri": "https://localhost:8080/",
          "height": 1000
        }
      },
      "source": [
        "autoencoder = Model(input_img, decoded)\n",
        "autoencoder.compile(optimizer='adadelta', loss='binary_crossentropy')\n",
        "\n",
        "autoencoder.fit(x_train, x_train,\n",
        "                epochs=100,\n",
        "                batch_size=256,\n",
        "                shuffle=True,\n",
        "                validation_data=(x_test, x_test))"
      ],
      "execution_count": 0,
      "outputs": [
        {
          "output_type": "stream",
          "text": [
            "Train on 60000 samples, validate on 10000 samples\n",
            "Epoch 1/100\n",
            "60000/60000 [==============================] - 6s 93us/step - loss: 0.3311 - val_loss: 0.2617\n",
            "Epoch 2/100\n",
            "60000/60000 [==============================] - 5s 85us/step - loss: 0.2515 - val_loss: 0.2443\n",
            "Epoch 3/100\n",
            "60000/60000 [==============================] - 5s 84us/step - loss: 0.2332 - val_loss: 0.2227\n",
            "Epoch 4/100\n",
            "60000/60000 [==============================] - 5s 84us/step - loss: 0.2160 - val_loss: 0.2084\n",
            "Epoch 5/100\n",
            "60000/60000 [==============================] - 5s 84us/step - loss: 0.2037 - val_loss: 0.1979\n",
            "Epoch 6/100\n",
            "60000/60000 [==============================] - 5s 81us/step - loss: 0.1946 - val_loss: 0.1879\n",
            "Epoch 7/100\n",
            "60000/60000 [==============================] - 5s 84us/step - loss: 0.1987 - val_loss: 0.2304\n",
            "Epoch 8/100\n",
            "60000/60000 [==============================] - 5s 85us/step - loss: 2.5708 - val_loss: 2.4150\n",
            "Epoch 9/100\n",
            "60000/60000 [==============================] - 5s 85us/step - loss: 2.1623 - val_loss: 1.7833\n",
            "Epoch 10/100\n",
            "60000/60000 [==============================] - 5s 84us/step - loss: 0.9228 - val_loss: 0.6428\n",
            "Epoch 11/100\n",
            "60000/60000 [==============================] - 5s 85us/step - loss: 0.6230 - val_loss: 0.6042\n",
            "Epoch 12/100\n",
            "60000/60000 [==============================] - 5s 85us/step - loss: 0.5870 - val_loss: 0.5707\n",
            "Epoch 13/100\n",
            "60000/60000 [==============================] - 5s 86us/step - loss: 0.5559 - val_loss: 0.5418\n",
            "Epoch 14/100\n",
            "60000/60000 [==============================] - 5s 87us/step - loss: 0.5289 - val_loss: 0.5167\n",
            "Epoch 15/100\n",
            "60000/60000 [==============================] - 5s 86us/step - loss: 0.5054 - val_loss: 0.4948\n",
            "Epoch 16/100\n",
            "60000/60000 [==============================] - 5s 85us/step - loss: 0.4849 - val_loss: 0.4756\n",
            "Epoch 17/100\n",
            "60000/60000 [==============================] - 5s 86us/step - loss: 0.4669 - val_loss: 0.4588\n",
            "Epoch 18/100\n",
            "60000/60000 [==============================] - 5s 85us/step - loss: 0.4511 - val_loss: 0.4439\n",
            "Epoch 19/100\n",
            "60000/60000 [==============================] - 5s 86us/step - loss: 0.4371 - val_loss: 0.4308\n",
            "Epoch 20/100\n",
            "60000/60000 [==============================] - 5s 85us/step - loss: 0.4247 - val_loss: 0.4190\n",
            "Epoch 21/100\n",
            "60000/60000 [==============================] - 5s 86us/step - loss: 0.4136 - val_loss: 0.4086\n",
            "Epoch 22/100\n",
            "60000/60000 [==============================] - 5s 85us/step - loss: 0.4037 - val_loss: 0.3992\n",
            "Epoch 23/100\n",
            "60000/60000 [==============================] - 5s 85us/step - loss: 0.3948 - val_loss: 0.3908\n",
            "Epoch 24/100\n",
            "60000/60000 [==============================] - 5s 84us/step - loss: 0.3867 - val_loss: 0.3831\n",
            "Epoch 25/100\n",
            "60000/60000 [==============================] - 5s 84us/step - loss: 0.3795 - val_loss: 0.3762\n",
            "Epoch 26/100\n",
            "60000/60000 [==============================] - 5s 84us/step - loss: 0.3729 - val_loss: 0.3700\n",
            "Epoch 27/100\n",
            "60000/60000 [==============================] - 5s 84us/step - loss: 0.3669 - val_loss: 0.3643\n",
            "Epoch 28/100\n",
            "60000/60000 [==============================] - 5s 84us/step - loss: 0.3614 - val_loss: 0.3590\n",
            "Epoch 29/100\n",
            "60000/60000 [==============================] - 5s 85us/step - loss: 0.3564 - val_loss: 0.3542\n",
            "Epoch 30/100\n",
            "60000/60000 [==============================] - 5s 84us/step - loss: 0.3518 - val_loss: 0.3498\n",
            "Epoch 31/100\n",
            "60000/60000 [==============================] - 5s 85us/step - loss: 0.3476 - val_loss: 0.3458\n",
            "Epoch 32/100\n",
            "60000/60000 [==============================] - 5s 85us/step - loss: 0.3437 - val_loss: 0.3420\n",
            "Epoch 33/100\n",
            "60000/60000 [==============================] - 5s 84us/step - loss: 0.3401 - val_loss: 0.3386\n",
            "Epoch 34/100\n",
            "60000/60000 [==============================] - 5s 84us/step - loss: 0.3368 - val_loss: 0.3354\n",
            "Epoch 35/100\n",
            "60000/60000 [==============================] - 5s 85us/step - loss: 0.3337 - val_loss: 0.3324\n",
            "Epoch 36/100\n",
            "60000/60000 [==============================] - 5s 85us/step - loss: 0.3308 - val_loss: 0.3296\n",
            "Epoch 37/100\n",
            "60000/60000 [==============================] - 5s 85us/step - loss: 0.3281 - val_loss: 0.3270\n",
            "Epoch 38/100\n",
            "60000/60000 [==============================] - 5s 87us/step - loss: 0.3256 - val_loss: 0.3246\n",
            "Epoch 39/100\n",
            "60000/60000 [==============================] - 5s 86us/step - loss: 0.3233 - val_loss: 0.3223\n",
            "Epoch 40/100\n",
            "60000/60000 [==============================] - 5s 85us/step - loss: 0.3211 - val_loss: 0.3202\n",
            "Epoch 41/100\n",
            "60000/60000 [==============================] - 5s 86us/step - loss: 0.3190 - val_loss: 0.3182\n",
            "Epoch 42/100\n",
            "60000/60000 [==============================] - 5s 85us/step - loss: 0.3171 - val_loss: 0.3163\n",
            "Epoch 43/100\n",
            "60000/60000 [==============================] - 5s 85us/step - loss: 0.3153 - val_loss: 0.3145\n",
            "Epoch 44/100\n",
            "60000/60000 [==============================] - 5s 85us/step - loss: 0.3136 - val_loss: 0.3129\n",
            "Epoch 45/100\n",
            "60000/60000 [==============================] - 5s 86us/step - loss: 0.3119 - val_loss: 0.3113\n",
            "Epoch 46/100\n",
            "60000/60000 [==============================] - 5s 86us/step - loss: 0.3104 - val_loss: 0.3098\n",
            "Epoch 47/100\n",
            "60000/60000 [==============================] - 5s 85us/step - loss: 0.3090 - val_loss: 0.3084\n",
            "Epoch 48/100\n",
            "60000/60000 [==============================] - 5s 87us/step - loss: 0.3076 - val_loss: 0.3070\n",
            "Epoch 49/100\n",
            "60000/60000 [==============================] - 5s 88us/step - loss: 0.3063 - val_loss: 0.3058\n",
            "Epoch 50/100\n",
            "60000/60000 [==============================] - 5s 87us/step - loss: 0.3050 - val_loss: 0.3046\n",
            "Epoch 51/100\n",
            "60000/60000 [==============================] - 5s 86us/step - loss: 0.3039 - val_loss: 0.3034\n",
            "Epoch 52/100\n",
            "60000/60000 [==============================] - 5s 85us/step - loss: 0.3028 - val_loss: 0.3023\n",
            "Epoch 53/100\n",
            "60000/60000 [==============================] - 5s 86us/step - loss: 0.3017 - val_loss: 0.3013\n",
            "Epoch 54/100\n",
            "60000/60000 [==============================] - 5s 85us/step - loss: 0.3007 - val_loss: 0.3003\n",
            "Epoch 55/100\n",
            "60000/60000 [==============================] - 5s 86us/step - loss: 0.2997 - val_loss: 0.2993\n",
            "Epoch 56/100\n",
            "60000/60000 [==============================] - 5s 86us/step - loss: 0.2988 - val_loss: 0.2984\n",
            "Epoch 57/100\n",
            "60000/60000 [==============================] - 5s 86us/step - loss: 0.2979 - val_loss: 0.2976\n",
            "Epoch 58/100\n",
            "60000/60000 [==============================] - 5s 86us/step - loss: 0.2970 - val_loss: 0.2967\n",
            "Epoch 59/100\n",
            "60000/60000 [==============================] - 5s 86us/step - loss: 0.2962 - val_loss: 0.2959\n",
            "Epoch 60/100\n",
            "60000/60000 [==============================] - 5s 84us/step - loss: 0.2955 - val_loss: 0.2952\n",
            "Epoch 61/100\n",
            "60000/60000 [==============================] - 5s 86us/step - loss: 0.2947 - val_loss: 0.2944\n",
            "Epoch 62/100\n",
            "60000/60000 [==============================] - 5s 87us/step - loss: 0.2940 - val_loss: 0.2937\n",
            "Epoch 63/100\n",
            "60000/60000 [==============================] - 5s 86us/step - loss: 0.2933 - val_loss: 0.2930\n",
            "Epoch 64/100\n",
            "60000/60000 [==============================] - 5s 86us/step - loss: 0.2926 - val_loss: 0.2924\n",
            "Epoch 65/100\n",
            "60000/60000 [==============================] - 5s 86us/step - loss: 0.2920 - val_loss: 0.2918\n",
            "Epoch 66/100\n",
            "60000/60000 [==============================] - 5s 85us/step - loss: 0.2914 - val_loss: 0.2912\n",
            "Epoch 67/100\n",
            "60000/60000 [==============================] - 5s 85us/step - loss: 0.2908 - val_loss: 0.2906\n",
            "Epoch 68/100\n",
            "60000/60000 [==============================] - 5s 85us/step - loss: 0.2902 - val_loss: 0.2900\n",
            "Epoch 69/100\n",
            "60000/60000 [==============================] - 5s 85us/step - loss: 0.2897 - val_loss: 0.2895\n",
            "Epoch 70/100\n",
            "60000/60000 [==============================] - 5s 85us/step - loss: 0.2892 - val_loss: 0.2890\n",
            "Epoch 71/100\n",
            "60000/60000 [==============================] - 5s 85us/step - loss: 0.2887 - val_loss: 0.2885\n",
            "Epoch 72/100\n",
            "60000/60000 [==============================] - 5s 86us/step - loss: 0.2882 - val_loss: 0.2880\n",
            "Epoch 73/100\n",
            "60000/60000 [==============================] - 5s 86us/step - loss: 0.2877 - val_loss: 0.2875\n",
            "Epoch 74/100\n",
            "60000/60000 [==============================] - 5s 85us/step - loss: 0.2872 - val_loss: 0.2870\n",
            "Epoch 75/100\n",
            "60000/60000 [==============================] - 5s 85us/step - loss: 0.2868 - val_loss: 0.2866\n",
            "Epoch 76/100\n",
            "60000/60000 [==============================] - 5s 85us/step - loss: 0.2864 - val_loss: 0.2862\n",
            "Epoch 77/100\n",
            "60000/60000 [==============================] - 5s 85us/step - loss: 0.2859 - val_loss: 0.2858\n",
            "Epoch 78/100\n",
            "60000/60000 [==============================] - 5s 85us/step - loss: 0.2855 - val_loss: 0.2854\n",
            "Epoch 79/100\n",
            "60000/60000 [==============================] - 5s 85us/step - loss: 0.2852 - val_loss: 0.2850\n",
            "Epoch 80/100\n",
            "60000/60000 [==============================] - 5s 85us/step - loss: 0.2848 - val_loss: 0.2846\n",
            "Epoch 81/100\n",
            "60000/60000 [==============================] - 5s 84us/step - loss: 0.2844 - val_loss: 0.2842\n",
            "Epoch 82/100\n",
            "60000/60000 [==============================] - 5s 84us/step - loss: 0.2841 - val_loss: 0.2839\n",
            "Epoch 83/100\n",
            "60000/60000 [==============================] - 5s 84us/step - loss: 0.2837 - val_loss: 0.2835\n",
            "Epoch 84/100\n",
            "60000/60000 [==============================] - 5s 85us/step - loss: 0.2834 - val_loss: 0.2832\n",
            "Epoch 85/100\n",
            "60000/60000 [==============================] - 5s 85us/step - loss: 0.2830 - val_loss: 0.2829\n",
            "Epoch 86/100\n",
            "60000/60000 [==============================] - 5s 86us/step - loss: 0.2827 - val_loss: 0.2826\n",
            "Epoch 87/100\n",
            "60000/60000 [==============================] - 5s 85us/step - loss: 0.2824 - val_loss: 0.2823\n",
            "Epoch 88/100\n",
            "60000/60000 [==============================] - 5s 86us/step - loss: 0.2821 - val_loss: 0.2820\n",
            "Epoch 89/100\n",
            "60000/60000 [==============================] - 5s 86us/step - loss: 0.2818 - val_loss: 0.2817\n",
            "Epoch 90/100\n",
            "60000/60000 [==============================] - 5s 85us/step - loss: 0.2816 - val_loss: 0.2814\n",
            "Epoch 91/100\n",
            "60000/60000 [==============================] - 5s 85us/step - loss: 0.2813 - val_loss: 0.2811\n",
            "Epoch 92/100\n",
            "60000/60000 [==============================] - 5s 85us/step - loss: 0.2810 - val_loss: 0.2809\n",
            "Epoch 93/100\n",
            "60000/60000 [==============================] - 5s 85us/step - loss: 0.2807 - val_loss: 0.2806\n",
            "Epoch 94/100\n",
            "60000/60000 [==============================] - 5s 85us/step - loss: 0.2805 - val_loss: 0.2803\n",
            "Epoch 95/100\n",
            "60000/60000 [==============================] - 5s 85us/step - loss: 0.2802 - val_loss: 0.2801\n",
            "Epoch 96/100\n",
            "60000/60000 [==============================] - 5s 85us/step - loss: 0.2800 - val_loss: 0.2799\n",
            "Epoch 97/100\n",
            "60000/60000 [==============================] - 5s 86us/step - loss: 0.2798 - val_loss: 0.2796\n",
            "Epoch 98/100\n",
            "60000/60000 [==============================] - 5s 86us/step - loss: 0.2795 - val_loss: 0.2794\n",
            "Epoch 99/100\n",
            "60000/60000 [==============================] - 5s 85us/step - loss: 0.2793 - val_loss: 0.2792\n",
            "Epoch 100/100\n",
            "60000/60000 [==============================] - 5s 85us/step - loss: 0.2791 - val_loss: 0.2789\n"
          ],
          "name": "stdout"
        },
        {
          "output_type": "execute_result",
          "data": {
            "text/plain": [
              "<keras.callbacks.History at 0x7f9bafcffb70>"
            ]
          },
          "metadata": {
            "tags": []
          },
          "execution_count": 31
        }
      ]
    },
    {
      "cell_type": "code",
      "metadata": {
        "id": "U5CoGFRlWpGC",
        "colab_type": "code",
        "colab": {}
      },
      "source": [
        "encoded_imgs = encoder.predict(x_test)\n",
        "decoded_imgs = decoder.predict(encoded_imgs)"
      ],
      "execution_count": 0,
      "outputs": []
    },
    {
      "cell_type": "code",
      "metadata": {
        "id": "PeJ0lx9-TYLp",
        "colab_type": "code",
        "outputId": "11e0c411-2dfe-4e91-e971-3cd0cf76162d",
        "colab": {
          "base_uri": "https://localhost:8080/",
          "height": 268
        }
      },
      "source": [
        "import matplotlib.pyplot as plt\n",
        "\n",
        "n = 10  # how many digits we will display\n",
        "plt.figure(figsize=(20, 4))\n",
        "for i in range(n):\n",
        "    # display original\n",
        "    ax = plt.subplot(2, n, i + 1)\n",
        "    plt.imshow(x_test[i].reshape(28, 28))\n",
        "    plt.gray()\n",
        "    ax.get_xaxis().set_visible(False)\n",
        "    ax.get_yaxis().set_visible(False)\n",
        "\n",
        "    # display reconstruction\n",
        "    ax = plt.subplot(2, n, i + 1 + n)\n",
        "    plt.imshow(decoded_imgs[i].reshape(28, 28))\n",
        "    plt.gray()\n",
        "    ax.get_xaxis().set_visible(False)\n",
        "    ax.get_yaxis().set_visible(False)\n",
        "plt.show()"
      ],
      "execution_count": 0,
      "outputs": [
        {
          "output_type": "display_data",
          "data": {
            "image/png": "[encoded data removed]",
            "text/plain": [
              "<Figure size 1440x288 with 20 Axes>"
            ]
          },
          "metadata": {
            "tags": []
          }
        }
      ]
    },
    {
      "cell_type": "code",
      "metadata": {
        "id": "JbpYKgWBWbgv",
        "colab_type": "code",
        "colab": {}
      },
      "source": [
        "from keras.layers import Input, Dense, Conv2D, MaxPooling2D, UpSampling2D\n",
        "from keras.models import Model\n",
        "from keras import backend as K\n",
        "\n",
        "input_img = Input(shape=(28, 28, 1))  # adapt this if using `channels_first` image data format\n",
        "\n",
        "x = Conv2D(16, (3, 3), activation='relu', padding='same')(input_img)\n",
        "x = MaxPooling2D((2, 2), padding='same')(x)\n",
        "x = Conv2D(8, (3, 3), activation='relu', padding='same')(x)\n",
        "x = MaxPooling2D((2, 2), padding='same')(x)\n",
        "x = Conv2D(8, (3, 3), activation='relu', padding='same')(x)\n",
        "encoded = MaxPooling2D((2, 2), padding='same')(x)\n",
        "\n",
        "# at this point the representation is (4, 4, 8) i.e. 128-dimensional\n",
        "\n",
        "x = Conv2D(8, (3, 3), activation='relu', padding='same')(encoded)\n",
        "x = UpSampling2D((2, 2))(x)\n",
        "x = Conv2D(8, (3, 3), activation='relu', padding='same')(x)\n",
        "x = UpSampling2D((2, 2))(x)\n",
        "x = Conv2D(16, (3, 3), activation='relu')(x)\n",
        "x = UpSampling2D((2, 2))(x)\n",
        "decoded = Conv2D(1, (3, 3), activation='sigmoid', padding='same')(x)\n",
        "\n",
        "autoencoder = Model(input_img, decoded)\n",
        "autoencoder.compile(optimizer='adadelta', loss='binary_crossentropy')"
      ],
      "execution_count": 0,
      "outputs": []
    },
    {
      "cell_type": "code",
      "metadata": {
        "id": "NnaCzfAHZT5p",
        "colab_type": "code",
        "colab": {}
      },
      "source": [
        "import numpy as np\n",
        "\n",
        "(x_train, _), (x_test, _) = mnist.load_data()\n",
        "\n",
        "x_train = x_train.astype('float32') / 255.\n",
        "x_test = x_test.astype('float32') / 255.\n",
        "x_train = np.reshape(x_train, (len(x_train), 28, 28, 1))  # adapt this if using `channels_first` image data format\n",
        "x_test = np.reshape(x_test, (len(x_test), 28, 28, 1))  # adapt this if using `channels_first` image data format"
      ],
      "execution_count": 0,
      "outputs": []
    },
    {
      "cell_type": "code",
      "metadata": {
        "id": "OJG1_hlMZX_R",
        "colab_type": "code",
        "outputId": "0afdee8a-7be4-4db6-e83d-70fc71e406e0",
        "colab": {
          "base_uri": "https://localhost:8080/",
          "height": 1000
        }
      },
      "source": [
        "from keras.callbacks import TensorBoard\n",
        "\n",
        "autoencoder.fit(x_train, x_train,\n",
        "                epochs=50,\n",
        "                batch_size=128,\n",
        "                shuffle=True,\n",
        "                validation_data=(x_test, x_test),\n",
        "                callbacks=[TensorBoard(log_dir='/tmp/autoencoder')])"
      ],
      "execution_count": 0,
      "outputs": [
        {
          "output_type": "stream",
          "text": [
            "Train on 60000 samples, validate on 10000 samples\n",
            "WARNING:tensorflow:From /usr/local/lib/python3.6/dist-packages/keras/callbacks.py:1122: The name tf.summary.merge_all is deprecated. Please use tf.compat.v1.summary.merge_all instead.\n",
            "\n",
            "WARNING:tensorflow:From /usr/local/lib/python3.6/dist-packages/keras/callbacks.py:1125: The name tf.summary.FileWriter is deprecated. Please use tf.compat.v1.summary.FileWriter instead.\n",
            "\n",
            "Epoch 1/50\n",
            "60000/60000 [==============================] - 76s 1ms/step - loss: 0.2408 - val_loss: 0.2000\n",
            "WARNING:tensorflow:From /usr/local/lib/python3.6/dist-packages/keras/callbacks.py:1265: The name tf.Summary is deprecated. Please use tf.compat.v1.Summary instead.\n",
            "\n",
            "Epoch 2/50\n",
            "60000/60000 [==============================] - 76s 1ms/step - loss: 0.1873 - val_loss: 0.1709\n",
            "Epoch 3/50\n",
            "60000/60000 [==============================] - 77s 1ms/step - loss: 0.1760 - val_loss: 0.1706\n",
            "Epoch 4/50\n",
            "60000/60000 [==============================] - 77s 1ms/step - loss: 0.1693 - val_loss: 0.1599\n",
            "Epoch 5/50\n",
            "60000/60000 [==============================] - 77s 1ms/step - loss: 0.1655 - val_loss: 0.1494\n",
            "Epoch 6/50\n",
            "60000/60000 [==============================] - 77s 1ms/step - loss: 0.1629 - val_loss: 0.1591\n",
            "Epoch 7/50\n",
            "60000/60000 [==============================] - 77s 1ms/step - loss: 0.1617 - val_loss: 0.1562\n",
            "Epoch 8/50\n",
            "60000/60000 [==============================] - 76s 1ms/step - loss: 0.1624 - val_loss: 0.1717\n",
            "Epoch 9/50\n",
            "60000/60000 [==============================] - 76s 1ms/step - loss: 0.1594 - val_loss: 0.1463\n",
            "Epoch 10/50\n",
            "60000/60000 [==============================] - 76s 1ms/step - loss: 0.1586 - val_loss: 0.1535\n",
            "Epoch 11/50\n",
            "60000/60000 [==============================] - 76s 1ms/step - loss: 0.1585 - val_loss: 0.1567\n",
            "Epoch 12/50\n",
            "60000/60000 [==============================] - 76s 1ms/step - loss: 0.1579 - val_loss: 0.1459\n",
            "Epoch 13/50\n",
            "60000/60000 [==============================] - 76s 1ms/step - loss: 0.1568 - val_loss: 0.1432\n",
            "Epoch 14/50\n",
            "60000/60000 [==============================] - 77s 1ms/step - loss: 0.1574 - val_loss: 0.1637\n",
            "Epoch 15/50\n",
            "60000/60000 [==============================] - 78s 1ms/step - loss: 0.1556 - val_loss: 0.1537\n",
            "Epoch 16/50\n",
            "60000/60000 [==============================] - 78s 1ms/step - loss: 0.1564 - val_loss: 0.1448\n",
            "Epoch 17/50\n",
            "60000/60000 [==============================] - 78s 1ms/step - loss: 0.1553 - val_loss: 0.1526\n",
            "Epoch 18/50\n",
            "60000/60000 [==============================] - 78s 1ms/step - loss: 0.1559 - val_loss: 0.1387\n",
            "Epoch 19/50\n",
            "60000/60000 [==============================] - 78s 1ms/step - loss: 0.1557 - val_loss: 0.1481\n",
            "Epoch 20/50\n",
            "60000/60000 [==============================] - 78s 1ms/step - loss: 0.1541 - val_loss: 0.1524\n",
            "Epoch 21/50\n",
            "60000/60000 [==============================] - 78s 1ms/step - loss: 0.1525 - val_loss: 0.1449\n",
            "Epoch 22/50\n",
            "60000/60000 [==============================] - 77s 1ms/step - loss: 0.1518 - val_loss: 0.1469\n",
            "Epoch 23/50\n",
            "60000/60000 [==============================] - 77s 1ms/step - loss: 0.1517 - val_loss: 0.1629\n",
            "Epoch 24/50\n",
            "60000/60000 [==============================] - 79s 1ms/step - loss: 0.1529 - val_loss: 0.1916\n",
            "Epoch 25/50\n",
            "60000/60000 [==============================] - 79s 1ms/step - loss: 0.1523 - val_loss: 0.1672\n",
            "Epoch 26/50\n",
            "60000/60000 [==============================] - 78s 1ms/step - loss: 0.1514 - val_loss: 0.1612\n",
            "Epoch 27/50\n",
            "60000/60000 [==============================] - 77s 1ms/step - loss: 0.1522 - val_loss: 0.1446\n",
            "Epoch 28/50\n",
            "60000/60000 [==============================] - 77s 1ms/step - loss: 0.1510 - val_loss: 0.1379\n",
            "Epoch 29/50\n",
            "60000/60000 [==============================] - 79s 1ms/step - loss: 0.1510 - val_loss: 0.1598\n",
            "Epoch 30/50\n",
            "60000/60000 [==============================] - 79s 1ms/step - loss: 0.1511 - val_loss: 0.1411\n",
            "Epoch 31/50\n",
            "60000/60000 [==============================] - 77s 1ms/step - loss: 0.1513 - val_loss: 0.1413\n",
            "Epoch 32/50\n",
            "60000/60000 [==============================] - 78s 1ms/step - loss: 0.1509 - val_loss: 0.1373\n",
            "Epoch 33/50\n",
            "60000/60000 [==============================] - 80s 1ms/step - loss: 0.1508 - val_loss: 0.1447\n",
            "Epoch 34/50\n",
            "60000/60000 [==============================] - 78s 1ms/step - loss: 0.1527 - val_loss: 0.1407\n",
            "Epoch 35/50\n",
            "60000/60000 [==============================] - 78s 1ms/step - loss: 0.1514 - val_loss: 0.1601\n",
            "Epoch 36/50\n",
            "60000/60000 [==============================] - 78s 1ms/step - loss: 0.1529 - val_loss: 0.1394\n",
            "Epoch 37/50\n",
            "60000/60000 [==============================] - 78s 1ms/step - loss: 0.1524 - val_loss: 0.1534\n",
            "Epoch 38/50\n",
            "60000/60000 [==============================] - 78s 1ms/step - loss: 0.1518 - val_loss: 0.1475\n",
            "Epoch 39/50\n",
            "60000/60000 [==============================] - 78s 1ms/step - loss: 0.1505 - val_loss: 0.1570\n",
            "Epoch 40/50\n",
            "60000/60000 [==============================] - 78s 1ms/step - loss: 0.1506 - val_loss: 0.1709\n",
            "Epoch 41/50\n",
            "60000/60000 [==============================] - 77s 1ms/step - loss: 0.1525 - val_loss: 0.1416\n",
            "Epoch 42/50\n",
            "60000/60000 [==============================] - 77s 1ms/step - loss: 0.1530 - val_loss: 0.1755\n",
            "Epoch 43/50\n",
            "60000/60000 [==============================] - 77s 1ms/step - loss: 0.1547 - val_loss: 0.1605\n",
            "Epoch 44/50\n",
            "60000/60000 [==============================] - 77s 1ms/step - loss: 0.1556 - val_loss: 0.1498\n",
            "Epoch 45/50\n",
            "60000/60000 [==============================] - 79s 1ms/step - loss: 0.1560 - val_loss: 0.1690\n",
            "Epoch 46/50\n",
            "60000/60000 [==============================] - 77s 1ms/step - loss: 0.1568 - val_loss: 0.1540\n",
            "Epoch 47/50\n",
            "60000/60000 [==============================] - 76s 1ms/step - loss: 0.1569 - val_loss: 0.1504\n",
            "Epoch 48/50\n",
            "60000/60000 [==============================] - 76s 1ms/step - loss: 0.1558 - val_loss: 0.1487\n",
            "Epoch 49/50\n",
            "60000/60000 [==============================] - 76s 1ms/step - loss: 0.1566 - val_loss: 0.1683\n",
            "Epoch 50/50\n",
            "60000/60000 [==============================] - 76s 1ms/step - loss: 0.1589 - val_loss: 0.1640\n"
          ],
          "name": "stdout"
        },
        {
          "output_type": "execute_result",
          "data": {
            "text/plain": [
              "<keras.callbacks.History at 0x7f9bb00667f0>"
            ]
          },
          "metadata": {
            "tags": []
          },
          "execution_count": 40
        }
      ]
    },
    {
      "cell_type": "code",
      "metadata": {
        "id": "BNSwjq_J4GJS",
        "colab_type": "code",
        "colab": {}
      },
      "source": [
        ""
      ],
      "execution_count": 0,
      "outputs": []
    }
  ]
}